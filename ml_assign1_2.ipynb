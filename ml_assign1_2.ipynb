{
 "cells": [
  {
   "cell_type": "code",
   "execution_count": 2,
   "id": "d830740d",
   "metadata": {},
   "outputs": [
    {
     "ename": "SyntaxError",
     "evalue": "invalid syntax (<ipython-input-2-87ce5fbd788e>, line 32)",
     "output_type": "error",
     "traceback": [
      "\u001b[1;36m  File \u001b[1;32m\"<ipython-input-2-87ce5fbd788e>\"\u001b[1;36m, line \u001b[1;32m32\u001b[0m\n\u001b[1;33m    for i in range(len(theta0_vals)):\u001b[0m\n\u001b[1;37m                                    ^\u001b[0m\n\u001b[1;31mSyntaxError\u001b[0m\u001b[1;31m:\u001b[0m invalid syntax\n"
     ]
    }
   ],
   "source": [
    "import numpy as np\n",
    "import matplotlib.pyplot as plt\n",
    "\n",
    "# Step 1: Generate a dataset with noise\n",
    "np.random.seed(0)\n",
    "X = 2 * np.random.rand(100, 1)\n",
    "y = 4 + 3 * X + np.random.rand(100, 1)\n",
    "\n",
    "# Step 2: Plot the data\n",
    "plt.scatter(X, y)\n",
    "plt.xlabel(\"Independent Variable\")\n",
    "plt.ylabel(\"Dependent Variable\")\n",
    "plt.title(\"Scatter Plot of Data\")\n",
    "plt.show()\n",
    "\n",
    "# Step 3: Estimate initial parametric values\n",
    "theta0 = np.random.rand()\n",
    "theta1 = np.random.rand()\n",
    "\n",
    "# Step 4: Plot the error (cost) curve\n",
    "def compute_cost(theta0, theta1, X, y):\n",
    "    m = len(y)\n",
    "    predictions = X.dot(theta1) + theta0\n",
    "    cost = (1 / (2 * m)) * np.sum(np.square(predictions - y))\n",
    "    return cost\n",
    "\n",
    "# Create a range of theta0 and theta1 values\n",
    "theta0_vals = np.linspace(-2, 6, 100)\n",
    "theta1_vals = np.linspace(-2, 6, 100)\n",
    "cost_vals = np.zeros((len(theta0_vals), len(theta1_vals))\n",
    "\n",
    "for i in range(len(theta0_vals)):\n",
    "    for j in range(len(theta1_vals)):\n",
    "        cost_vals[i, j] = compute_cost(theta0_vals[i], theta1_vals[j], X, y)\n",
    "\n",
    "# Plot the cost curve\n",
    "plt.contourf(theta0_vals, theta1_vals, cost_vals, levels=20, cmap='viridis')\n",
    "plt.colorbar()\n",
    "plt.xlabel('Theta0')\n",
    "plt.ylabel('Theta1')\n",
    "plt.title(\"Cost Curve\")\n",
    "\n",
    "# Step 5: Use gradient descent\n",
    "learning_rate_small = 0.01\n",
    "learning_rate_large = 0.1\n",
    "num_iterations = 1000\n",
    "\n",
    "# Initialize parameters\n",
    "theta0_small, theta1_small = np.random.rand(), np.random.rand()\n",
    "theta0_large, theta1_large = np.random.rand(), np.random.rand()\n",
    "\n",
    "# Create lists to store the cost values at each step\n",
    "cost_history_small = []\n",
    "cost_history_large = []\n",
    "\n",
    "for _ in range(num_iterations):\n",
    "    # Calculate the gradients\n",
    "    gradients_small = (1 / len(y)) * X.T.dot(X.dot(theta1_small) + theta0_small - y)\n",
    "    gradients_large = (1 / len(y)) * X.T.dot(X.dot(theta1_large) + theta0_large - y)\n",
    "    \n",
    "    # Update the parameters\n",
    "    theta0_small -= learning_rate_small * gradients_small[0]\n",
    "    theta1_small -= learning_rate_small * gradients_small[1]\n",
    "    \n",
    "    theta0_large -= learning_rate_large * gradients_large[0]\n",
    "    theta1_large -= learning_rate_large * gradients_large[1]\n",
    "    \n",
    "    # Calculate and store the cost at each step\n",
    "    cost_history_small.append(compute_cost(theta0_small, theta1_small, X, y))\n",
    "    cost_history_large.append(compute_cost(theta0_large, theta1_large, X, y)\n",
    "\n",
    "# Step 6: Output the results in tabular form\n",
    "import pandas as pd\n",
    "\n",
    "iterations = np.arange(1, num_iterations + 1)\n",
    "results_small = pd.DataFrame({'Iteration': iterations, 'Theta0': theta0_small, 'Theta1': theta1_small, 'Cost': cost_history_small})\n",
    "results_large = pd.DataFrame({'Iteration': iterations, 'Theta0': theta0_large, 'Theta1': theta1_large, 'Cost': cost_history_large})\n",
    "\n",
    "print(\"Gradient Descent with Small Learning Rate\")\n",
    "print(results_small.head(10))\n",
    "print(\"\\nGradient Descent with Large Learning Rate\")\n",
    "print(results_large.head(10))\n",
    "\n",
    "# Step 7: Plot the final curve\n",
    "plt.scatter(X, y)\n",
    "plt.xlabel(\"Independent Variable\")\n",
    "plt.ylabel(\"Dependent Variable\")\n",
    "plt.title(\"Linear Regression Fit\")\n",
    "\n",
    "plt.plot(X, X * theta1_small + theta0_small, color='red', label=f'Small LR: y = {theta1_small:.2f}x + {theta0_small:.2f}')\n",
    "plt.plot(X, X * theta1_large + theta0_large, color='green', label=f'Large LR: y = {theta1_large:.2f}x + {theta0_large:.2f}')\n",
    "\n",
    "plt.legend()\n",
    "plt.show()\n"
   ]
  },
  {
   "cell_type": "code",
   "execution_count": 3,
   "id": "be41d2ab",
   "metadata": {},
   "outputs": [
    {
     "ename": "SyntaxError",
     "evalue": "invalid syntax (<ipython-input-3-87ce5fbd788e>, line 32)",
     "output_type": "error",
     "traceback": [
      "\u001b[1;36m  File \u001b[1;32m\"<ipython-input-3-87ce5fbd788e>\"\u001b[1;36m, line \u001b[1;32m32\u001b[0m\n\u001b[1;33m    for i in range(len(theta0_vals)):\u001b[0m\n\u001b[1;37m                                    ^\u001b[0m\n\u001b[1;31mSyntaxError\u001b[0m\u001b[1;31m:\u001b[0m invalid syntax\n"
     ]
    }
   ],
   "source": [
    "import numpy as np\n",
    "import matplotlib.pyplot as plt\n",
    "\n",
    "# Step 1: Generate a dataset with noise\n",
    "np.random.seed(0)\n",
    "X = 2 * np.random.rand(100, 1)\n",
    "y = 4 + 3 * X + np.random.rand(100, 1)\n",
    "\n",
    "# Step 2: Plot the data\n",
    "plt.scatter(X, y)\n",
    "plt.xlabel(\"Independent Variable\")\n",
    "plt.ylabel(\"Dependent Variable\")\n",
    "plt.title(\"Scatter Plot of Data\")\n",
    "plt.show()\n",
    "\n",
    "# Step 3: Estimate initial parametric values\n",
    "theta0 = np.random.rand()\n",
    "theta1 = np.random.rand()\n",
    "\n",
    "# Step 4: Plot the error (cost) curve\n",
    "def compute_cost(theta0, theta1, X, y):\n",
    "    m = len(y)\n",
    "    predictions = X.dot(theta1) + theta0\n",
    "    cost = (1 / (2 * m)) * np.sum(np.square(predictions - y))\n",
    "    return cost\n",
    "\n",
    "# Create a range of theta0 and theta1 values\n",
    "theta0_vals = np.linspace(-2, 6, 100)\n",
    "theta1_vals = np.linspace(-2, 6, 100)\n",
    "cost_vals = np.zeros((len(theta0_vals), len(theta1_vals))\n",
    "\n",
    "for i in range(len(theta0_vals)):\n",
    "    for j in range(len(theta1_vals)):\n",
    "        cost_vals[i, j] = compute_cost(theta0_vals[i], theta1_vals[j], X, y)\n",
    "\n",
    "# Plot the cost curve\n",
    "plt.contourf(theta0_vals, theta1_vals, cost_vals, levels=20, cmap='viridis')\n",
    "plt.colorbar()\n",
    "plt.xlabel('Theta0')\n",
    "plt.ylabel('Theta1')\n",
    "plt.title(\"Cost Curve\")\n",
    "\n",
    "# Step 5: Use gradient descent\n",
    "learning_rate_small = 0.01\n",
    "learning_rate_large = 0.1\n",
    "num_iterations = 1000\n",
    "\n",
    "# Initialize parameters\n",
    "theta0_small, theta1_small = np.random.rand(), np.random.rand()\n",
    "theta0_large, theta1_large = np.random.rand(), np.random.rand()\n",
    "\n",
    "# Create lists to store the cost values at each step\n",
    "cost_history_small = []\n",
    "cost_history_large = []\n",
    "\n",
    "for _ in range(num_iterations):\n",
    "    # Calculate the gradients\n",
    "    gradients_small = (1 / len(y)) * X.T.dot(X.dot(theta1_small) + theta0_small - y)\n",
    "    gradients_large = (1 / len(y)) * X.T.dot(X.dot(theta1_large) + theta0_large - y)\n",
    "    \n",
    "    # Update the parameters\n",
    "    theta0_small -= learning_rate_small * gradients_small[0]\n",
    "    theta1_small -= learning_rate_small * gradients_small[1]\n",
    "    \n",
    "    theta0_large -= learning_rate_large * gradients_large[0]\n",
    "    theta1_large -= learning_rate_large * gradients_large[1]\n",
    "    \n",
    "    # Calculate and store the cost at each step\n",
    "    cost_history_small.append(compute_cost(theta0_small, theta1_small, X, y))\n",
    "    cost_history_large.append(compute_cost(theta0_large, theta1_large, X, y)\n",
    "\n",
    "# Step 6: Output the results in tabular form\n",
    "import pandas as pd\n",
    "\n",
    "iterations = np.arange(1, num_iterations + 1)\n",
    "results_small = pd.DataFrame({'Iteration': iterations, 'Theta0': theta0_small, 'Theta1': theta1_small, 'Cost': cost_history_small})\n",
    "results_large = pd.DataFrame({'Iteration': iterations, 'Theta0': theta0_large, 'Theta1': theta1_large, 'Cost': cost_history_large})\n",
    "\n",
    "print(\"Gradient Descent with Small Learning Rate\")\n",
    "print(results_small.head(10))\n",
    "print(\"\\nGradient Descent with Large Learning Rate\")\n",
    "print(results_large.head(10))\n",
    "\n",
    "# Step 7: Plot the final curve\n",
    "plt.scatter(X, y)\n",
    "plt.xlabel(\"Independent Variable\")\n",
    "plt.ylabel(\"Dependent Variable\")\n",
    "plt.title(\"Linear Regression Fit\")\n",
    "\n",
    "plt.plot(X, X * theta1_small + theta0_small, color='red', label=f'Small LR: y = {theta1_small:.2f}x + {theta0_small:.2f}')\n",
    "plt.plot(X, X * theta1_large + theta0_large, color='green', label=f'Large LR: y = {theta1_large:.2f}x + {theta0_large:.2f}')\n",
    "\n",
    "plt.legend()\n",
    "plt.show()\n"
   ]
  },
  {
   "cell_type": "code",
   "execution_count": 45,
   "id": "4cb15348",
   "metadata": {},
   "outputs": [],
   "source": [
    "import numpy as np\n",
    "import matplotlib.pyplot as plt\n",
    "import pandas as pd"
   ]
  },
  {
   "cell_type": "code",
   "execution_count": 6,
   "id": "cd1528f6",
   "metadata": {},
   "outputs": [],
   "source": [
    "np.random.seed(0)\n",
    "X = 2 * np.random.rand(100, 1)\n",
    "y = 4 + 3 * X + np.random.rand(100, 1)"
   ]
  },
  {
   "cell_type": "code",
   "execution_count": 8,
   "id": "95b3bd45",
   "metadata": {},
   "outputs": [
    {
     "data": {
      "image/png": "[encoded data removed]",
      "text/plain": [
       "<Figure size 432x288 with 1 Axes>"
      ]
     },
     "metadata": {
      "needs_background": "light"
     },
     "output_type": "display_data"
    }
   ],
   "source": [
    "# Step 2: Plot the data\n",
    "plt.scatter(X, y)\n",
    "plt.xlabel(\"Independent Variable\")\n",
    "plt.ylabel(\"Dependent Variable\")\n",
    "plt.title(\"Scatter Plot of Data\")\n",
    "plt.show()"
   ]
  },
  {
   "cell_type": "code",
   "execution_count": 12,
   "id": "c5e41d40",
   "metadata": {},
   "outputs": [
    {
     "data": {
      "text/plain": [
       "0.6793927734985673"
      ]
     },
     "execution_count": 12,
     "metadata": {},
     "output_type": "execute_result"
    }
   ],
   "source": [
    "# Step 3: Estimate initial parametric values\n",
    "theta0 = np.random.rand()\n",
    "theta1 = np.random.rand()\n",
    "theta0"
   ]
  },
  {
   "cell_type": "code",
   "execution_count": 39,
   "id": "7eb7e78b",
   "metadata": {},
   "outputs": [
    {
     "ename": "TypeError",
     "evalue": "Cannot interpret '1' as a data type",
     "output_type": "error",
     "traceback": [
      "\u001b[1;31m---------------------------------------------------------------------------\u001b[0m",
      "\u001b[1;31mTypeError\u001b[0m                                 Traceback (most recent call last)",
      "\u001b[1;32m<ipython-input-39-6020af5903d7>\u001b[0m in \u001b[0;36m<module>\u001b[1;34m\u001b[0m\n\u001b[1;32m----> 1\u001b[1;33m \u001b[0mnp\u001b[0m\u001b[1;33m.\u001b[0m\u001b[0mzeros\u001b[0m\u001b[1;33m(\u001b[0m\u001b[1;36m1\u001b[0m\u001b[1;33m,\u001b[0m\u001b[1;36m1\u001b[0m\u001b[1;33m)\u001b[0m\u001b[1;33m\u001b[0m\u001b[1;33m\u001b[0m\u001b[0m\n\u001b[0m",
      "\u001b[1;31mTypeError\u001b[0m: Cannot interpret '1' as a data type"
     ]
    }
   ],
   "source": [
    "np.zeros(1,1)"
   ]
  },
  {
   "cell_type": "code",
   "execution_count": 42,
   "id": "22c98b09",
   "metadata": {},
   "outputs": [
    {
     "data": {
      "text/plain": [
       "Text(0.5, 1.0, 'Cost Curve')"
      ]
     },
     "execution_count": 42,
     "metadata": {},
     "output_type": "execute_result"
    },
    {
     "data": {
      "image/png": "[encoded data removed]",
      "text/plain": [
       "<Figure size 432x288 with 2 Axes>"
      ]
     },
     "metadata": {
      "needs_background": "light"
     },
     "output_type": "display_data"
    }
   ],
   "source": [
    "def compute_cost(theta0, theta1, X, y):\n",
    "    m = len(y)\n",
    "    predictions = X.dot(theta1) + theta0\n",
    "    cost = (1 / (2 * m)) * np.sum(np.square(predictions - y))\n",
    "    return cost\n",
    "\n",
    "# Create a range of theta0 and theta1 values\n",
    "theta0_vals = np.linspace(-2, 6, 100)\n",
    "theta1_vals = np.linspace(-2, 6, 100)\n",
    "s=(len(theta0_vals), len(theta1_vals))\n",
    "cost_vals = np.zeros(s)\n",
    "               \n",
    "for i in range(len(theta0_vals)):                    \n",
    "    for j in range(len(theta1_vals)):\n",
    "        cost_vals[i, j] = compute_cost(theta0_vals[i], theta1_vals[j], X, y)\n",
    "\n",
    "# Plot the cost curve\n",
    "plt.contourf(theta0_vals, theta1_vals, cost_vals, levels=20, cmap='viridis')\n",
    "plt.colorbar()\n",
    "plt.xlabel('Theta0')\n",
    "plt.ylabel('Theta1')\n",
    "plt.title(\"Cost Curve\")\n",
    "\n"
   ]
  },
  {
   "cell_type": "code",
   "execution_count": 51,
   "id": "8281d6cc",
   "metadata": {
    "scrolled": true
   },
   "outputs": [
    {
     "ename": "SyntaxError",
     "evalue": "invalid syntax (<ipython-input-51-ec62d1772f5b>, line 31)",
     "output_type": "error",
     "traceback": [
      "\u001b[1;36m  File \u001b[1;32m\"<ipython-input-51-ec62d1772f5b>\"\u001b[1;36m, line \u001b[1;32m31\u001b[0m\n\u001b[1;33m    iterations = np.arange(1, num_iterations + 1)\u001b[0m\n\u001b[1;37m    ^\u001b[0m\n\u001b[1;31mSyntaxError\u001b[0m\u001b[1;31m:\u001b[0m invalid syntax\n"
     ]
    }
   ],
   "source": [
    "# Step 5: Use gradient descent\n",
    "learning_rate_small = 0.01\n",
    "learning_rate_large = 0.1\n",
    "num_iterations = 1000\n",
    "\n",
    "# Initialize parameters\n",
    "theta0_small, theta1_small = np.random.rand(), np.random.rand()\n",
    "theta0_large, theta1_large = np.random.rand(), np.random.rand()\n",
    "\n",
    "# Create lists to store the cost values at each step\n",
    "cost_history_small = []\n",
    "cost_history_large = []\n",
    "\n",
    "for _ in range(num_iterations):\n",
    "    # Calculate the gradients\n",
    "    gradients_small = (1 / len(y)) * X.T.dot(X.dot(theta1_small) + theta0_small - y)\n",
    "    gradients_large = (1 / len(y)) * X.T.dot(X.dot(theta1_large) + theta0_large - y)\n",
    "    \n",
    "    # Update the parameters\n",
    "    theta0_small -= learning_rate_small * gradients_small[0]\n",
    "    theta1_small -= learning_rate_small * gradients_small[0]\n",
    "    \n",
    "    theta0_large -= learning_rate_large * gradients_large[0]\n",
    "    theta1_large -= learning_rate_large * gradients_large[0]\n",
    "    \n",
    "    # Calculate and store the cost at each step\n",
    "    cost_history_small.append(compute_cost(theta0_small, theta1_small, X, y))\n",
    "    cost_history_large.append(compute_cost(theta0_large, theta1_large, X, y)\n",
    "\n",
    "\n",
    "    iterations = np.arange(1, num_iterations + 1)\n",
    "    results_small = pd.DataFrame({'Iteration': iterations, 'Theta0': theta0_small, 'Theta1': theta1_small, 'Cost': cost_history_small})\n",
    "    results_large = pd.DataFrame({'Iteration': iterations, 'Theta0': theta0_large, 'Theta1': theta1_large, 'Cost': cost_history_large})\n",
    "\n",
    "print(\"Gradient Descent with Small Learning Rate\")\n",
    "print(results_small.head(10))\n",
    "print(\"\\nGradient Descent with Large Learning Rate\")\n",
    "print(results_large.head(10))\n",
    "\n",
    "# Step 7: Plot the final curve\n",
    "plt.scatter(X, y)\n",
    "plt.xlabel(\"Independent Variable\")\n",
    "plt.ylabel(\"Dependent Variable\")\n",
    "plt.title(\"Linear Regression Fit\")\n",
    "\n",
    "plt.plot(X, X * theta1_small + theta0_small, color='red', label=f'Small LR: y = {theta1_small:.2f}x + {theta0_small:.2f}')\n",
    "plt.plot(X, X * theta1_large + theta0_large, color='green', label=f'Large LR: y = {theta1_large:.2f}x + {theta0_large:.2f}')\n",
    "\n",
    "plt.legend()\n",
    "plt.show()\n"
   ]
  },
  {
   "cell_type": "code",
   "execution_count": null,
   "id": "e9d1a169",
   "metadata": {},
   "outputs": [],
   "source": []
  }
 ],
 "metadata": {
  "kernelspec": {
   "display_name": "Python 3",
   "language": "python",
   "name": "python3"
  },
  "language_info": {
   "codemirror_mode": {
    "name": "ipython",
    "version": 3
   },
   "file_extension": ".py",
   "mimetype": "text/x-python",
   "name": "python",
   "nbconvert_exporter": "python",
   "pygments_lexer": "ipython3",
   "version": "3.8.8"
  }
 },
 "nbformat": 4,
 "nbformat_minor": 5
}
